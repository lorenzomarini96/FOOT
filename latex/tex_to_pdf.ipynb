{
 "cells": [
  {
   "cell_type": "markdown",
   "id": "isolated-store",
   "metadata": {},
   "source": [
    "# tex_to_pdf\n",
    "\n",
    "Programma per compilare con $\\LaTeX$ i file *.tex* generati con **ROOT**."
   ]
  },
  {
   "cell_type": "code",
   "execution_count": 17,
   "id": "suburban-formation",
   "metadata": {
    "ExecuteTime": {
     "end_time": "2021-12-07T14:55:38.240497Z",
     "start_time": "2021-12-07T14:55:38.219455Z"
    }
   },
   "outputs": [],
   "source": [
    "import os\n",
    "import glob\n",
    "import shutil\n",
    "\n",
    "def tex_to_pdf(infile):\n",
    "    \"\"\"\n",
    "    Function to convert a given input file in .tex format made by ROOT freamwork\n",
    "    to a pdf file and save it.\n",
    "    -----------------------------\n",
    "    Type[infile] : string\n",
    "    -----------------------------\n",
    "    NOTE: add <<.tex>> extention\n",
    "    -----------------------------\n",
    "    Default Font: Palatino (matching with my thesis)\n",
    "    \"\"\"\n",
    "    \n",
    "    outfile = infile[:-4] + \"_new\" + \".tex\"  # Brutto non si può vedere (sistemare assolutamente)\n",
    "    \n",
    "    fin = open(infile, \"rt\")\n",
    "\n",
    "    fout = open(outfile, \"wt\")\n",
    "    \n",
    "    fout.write(\"\\\\documentclass{standalone}\\n\")\n",
    "    fout.write(\"\\\\usepackage{tikz}\\n\")\n",
    "    fout.write(\"\\\\usepackage{newpxtext,newpxmath}\\n\")\n",
    "    fout.write(\"\\\\begin{document}\\n\")\n",
    "    fout.write(\"%%%%%%%%%%%%%%%%%%%%%%%\\n\\n\")\n",
    "\n",
    "    for line in fin:\n",
    "        fout.write(line)\n",
    "\n",
    "    fout.write(\"\\\\end{document}\")\n",
    "\n",
    "    #close input and output files\n",
    "    fin.close()\n",
    "    fout.close()\n",
    "    \n",
    "    # RUN LATEX\n",
    "    os.system(\"pdflatex \" + outfile)\n",
    "    \n",
    "    # REMOVE UNNECESSARY FILES\n",
    "    os.remove(outfile)\n",
    "    os.remove(str(outfile[:-4]) + \".log\")\n",
    "    os.remove(str(outfile[:-4]) + \".aux\")\n",
    "    \n"
   ]
  },
  {
   "cell_type": "code",
   "execution_count": 19,
   "id": "another-boating",
   "metadata": {
    "ExecuteTime": {
     "end_time": "2021-12-07T14:55:49.645691Z",
     "start_time": "2021-12-07T14:55:49.642054Z"
    }
   },
   "outputs": [],
   "source": [
    "#tex_to_pdf(\"plot_2.tex\")"
   ]
  },
  {
   "cell_type": "code",
   "execution_count": 20,
   "id": "cardiovascular-single",
   "metadata": {
    "ExecuteTime": {
     "end_time": "2021-12-07T14:56:17.742747Z",
     "start_time": "2021-12-07T14:55:50.225340Z"
    }
   },
   "outputs": [],
   "source": [
    "dirpath = \"/Users/lorenzomarini/Desktop/cartella_plot_tex/\"\n",
    "for file in glob.glob(dirpath+\"/*.tex\"): # For all .text file in the given folder.\n",
    "    tex_to_pdf(file)"
   ]
  },
  {
   "cell_type": "code",
   "execution_count": null,
   "id": "hispanic-liberal",
   "metadata": {},
   "outputs": [],
   "source": []
  }
 ],
 "metadata": {
  "kernelspec": {
   "display_name": "Python 3",
   "language": "python",
   "name": "python3"
  },
  "language_info": {
   "codemirror_mode": {
    "name": "ipython",
    "version": 3
   },
   "file_extension": ".py",
   "mimetype": "text/x-python",
   "name": "python",
   "nbconvert_exporter": "python",
   "pygments_lexer": "ipython3",
   "version": "3.7.9"
  },
  "latex_envs": {
   "LaTeX_envs_menu_present": true,
   "autoclose": false,
   "autocomplete": true,
   "bibliofile": "biblio.bib",
   "cite_by": "apalike",
   "current_citInitial": 1,
   "eqLabelWithNumbers": true,
   "eqNumInitial": 1,
   "hotkeys": {
    "equation": "Ctrl-E",
    "itemize": "Ctrl-I"
   },
   "labels_anchors": false,
   "latex_user_defs": false,
   "report_style_numbering": false,
   "user_envs_cfg": false
  },
  "toc": {
   "base_numbering": 1,
   "nav_menu": {},
   "number_sections": true,
   "sideBar": true,
   "skip_h1_title": false,
   "title_cell": "Table of Contents",
   "title_sidebar": "Contents",
   "toc_cell": false,
   "toc_position": {},
   "toc_section_display": true,
   "toc_window_display": false
  },
  "varInspector": {
   "cols": {
    "lenName": 16,
    "lenType": 16,
    "lenVar": 40
   },
   "kernels_config": {
    "python": {
     "delete_cmd_postfix": "",
     "delete_cmd_prefix": "del ",
     "library": "var_list.py",
     "varRefreshCmd": "print(var_dic_list())"
    },
    "r": {
     "delete_cmd_postfix": ") ",
     "delete_cmd_prefix": "rm(",
     "library": "var_list.r",
     "varRefreshCmd": "cat(var_dic_list()) "
    }
   },
   "types_to_exclude": [
    "module",
    "function",
    "builtin_function_or_method",
    "instance",
    "_Feature"
   ],
   "window_display": false
  }
 },
 "nbformat": 4,
 "nbformat_minor": 5
}
